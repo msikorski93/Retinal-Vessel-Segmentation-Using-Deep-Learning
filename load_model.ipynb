{
 "cells": [
  {
   "cell_type": "markdown",
   "id": "85a59372-b1d5-4b19-ba41-763931121b59",
   "metadata": {},
   "source": [
    "## Loading Serialized Model"
   ]
  },
  {
   "cell_type": "code",
   "execution_count": null,
   "id": "b544b52c-6633-4bf9-b1b2-4dc67fcf304e",
   "metadata": {},
   "outputs": [],
   "source": [
    "import tensorflow as tf\n",
    "from tensorflow import keras\n",
    "from keras.losses import BinaryFocalCrossentropy\n",
    "from keras.utils import register_keras_serializable\n",
    "from keras.activations import swish\n",
    "from keras.layers import Dropout\n",
    "\n",
    "@register_keras_serializable()\n",
    "class FocalDiceLoss(tf.keras.losses.Loss):\n",
    "    def __init__(self, alpha=0.25, gamma=2., name='focal_dice_loss'):\n",
    "        super(FocalDiceLoss, self).__init__(name=name)\n",
    "        self.alpha = alpha\n",
    "        self.gamma = gamma\n",
    "        self.focal = BinaryFocalCrossentropy(from_logits=False, alpha=self.alpha, gamma=self.gamma)\n",
    "        \n",
    "    def call(self, y_true, y_pred):\n",
    "        focal_loss = self.focal(y_true, y_pred)\n",
    "        dice = dice_loss(y_true, y_pred)\n",
    "        return focal_loss + dice\n",
    "\n",
    "@register_keras_serializable()\n",
    "class FixedDropout(Dropout):\n",
    "    def call(self, inputs, training=None):\n",
    "        return super().call(inputs, training=True)"
   ]
  },
  {
   "cell_type": "code",
   "execution_count": null,
   "id": "7855161b-72db-4553-a9df-d72dd649897b",
   "metadata": {},
   "outputs": [],
   "source": [
    "# specificity (true negative rate)\n",
    "def specificity(y_true, y_pred, smooth=1e-7):\n",
    "    y_pred = tf.cast(y_pred > 0.5, tf.float32)\n",
    "    y_true = tf.cast(y_true, tf.float32)\n",
    "    tn = tf.reduce_sum((1 - y_true) * (1 - y_pred))\n",
    "    fp = tf.reduce_sum((1 - y_true) * y_pred)\n",
    "    return tn / (tn + fp + smooth)\n",
    "\n",
    "# F1 score (Dice coefficient)\n",
    "def f1_score(y_true, y_pred, smooth=1e-7):\n",
    "    y_pred = tf.cast(y_pred > 0.5, tf.float32)\n",
    "    y_true = tf.cast(y_true, tf.float32)\n",
    "\n",
    "    tp = tf.reduce_sum(y_true * y_pred)\n",
    "    fp = tf.reduce_sum((1 - y_true) * y_pred)\n",
    "    fn = tf.reduce_sum(y_true * (1 - y_pred))\n",
    "\n",
    "    precision = tp / (tp + fp + smooth)\n",
    "    recall = tp / (tp + fn + smooth)\n",
    "    f1 = 2 * precision * recall / (precision + recall + smooth)\n",
    "    return f1\n",
    "\n",
    "# Matthew's correlation coefficient\n",
    "def mcc(y_true, y_pred, smooth=1e-7):\n",
    "    y_pred = tf.cast(y_pred > 0.5, tf.float32)\n",
    "    y_true = tf.cast(y_true, tf.float32)\n",
    "\n",
    "    tp = tf.reduce_sum(y_true * y_pred)\n",
    "    tn = tf.reduce_sum((1 - y_true) * (1 - y_pred))\n",
    "    fp = tf.reduce_sum((1 - y_true) * y_pred)\n",
    "    fn = tf.reduce_sum(y_true * (1 - y_pred))\n",
    "\n",
    "    numerator = (tp * tn) - (fp * fn)\n",
    "    denominator = tf.sqrt((tp + fp) * (tp + fn) * (tn + fp) * (tn + fn))\n",
    "    return numerator / (denominator + smooth)"
   ]
  },
  {
   "cell_type": "code",
   "execution_count": null,
   "id": "dfafabcc-5374-4f23-9b30-067f7ec7dbec",
   "metadata": {},
   "outputs": [],
   "source": [
    "# load serialized model\n",
    "model = tf.keras.models.load_model(\n",
    "    'efficientnetb0_unet.keras',\n",
    "    custom_objects={'swish': swish, 'FixedDropout': FixedDropout, 'focal_dice_loss': FocalDiceLoss()},\n",
    "    compile=False,\n",
    ")\n",
    "\n",
    "# define optimizer\n",
    "adam_optimizer = keras.optimizers.Adam(\n",
    "    learning_rate=1e-4,\n",
    "    name='adam',\n",
    "    beta_1=0.9,\n",
    "    beta_2=0.999,\n",
    ")\n",
    "\n",
    "# evaluation metrics\n",
    "accuracy = tf.keras.metrics.BinaryAccuracy(name='accuracy')\n",
    "iou = tf.keras.metrics.BinaryIoU(target_class_ids=(0, 1), name='iou')\n",
    "sensitivity = tf.keras.metrics.Recall()\n",
    "precision = tf.keras.metrics.Precision()\n",
    "\n",
    "# compile U-Net model with defined optimizer, loss and metrics\n",
    "model.compile(\n",
    "    optimizer=adam_optimizer,\n",
    "    loss=FocalDiceLoss(alpha=0.25, gamma=2.0),\n",
    "    metrics=[accuracy, iou, sensitivity, precision, specificity, f1_score, mcc],\n",
    ")"
   ]
  }
 ],
 "metadata": {
  "kernelspec": {
   "display_name": "Python 3 (ipykernel)",
   "language": "python",
   "name": "python3"
  },
  "language_info": {
   "codemirror_mode": {
    "name": "ipython",
    "version": 3
   },
   "file_extension": ".py",
   "mimetype": "text/x-python",
   "name": "python",
   "nbconvert_exporter": "python",
   "pygments_lexer": "ipython3",
   "version": "3.12.4"
  }
 },
 "nbformat": 4,
 "nbformat_minor": 5
}
